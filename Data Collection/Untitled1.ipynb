{
  "nbformat": 4,
  "nbformat_minor": 0,
  "metadata": {
    "colab": {
      "provenance": [],
      "toc_visible": true
    },
    "kernelspec": {
      "name": "python3",
      "display_name": "Python 3"
    },
    "language_info": {
      "name": "python"
    }
  },
  "cells": [
    {
      "cell_type": "code",
      "execution_count": 1,
      "metadata": {
        "id": "Nna0-eSh82ZY"
      },
      "outputs": [],
      "source": [
        "from requests import get\n",
        "from enum import auto, IntEnum\n",
        "from importlib.machinery import ModuleSpec\n",
        "from urllib.parse import urljoin\n",
        "from os.path import join\n",
        "\n",
        "class GithubImportState(IntEnum):\n",
        "    USER = auto()\n",
        "    REPO = auto()\n",
        "    FILE = auto()\n",
        "\n",
        "class GithubImportFinder:\n",
        "    def find_spec(self, modname, path=None, mod=None):\n",
        "        package, dot, module = modname.rpartition(\".\")\n",
        "        if not dot:\n",
        "            spec = ModuleSpec(\n",
        "                modname,\n",
        "                GithubImportLoader(),\n",
        "                origin=\"https://github.com/\" + module,\n",
        "                loader_state=GithubImportState.USER,\n",
        "                is_package=True)\n",
        "            spec.submodule_search_locations = []\n",
        "            return spec\n",
        "        else:\n",
        "            user, dot2, repo = package.rpartition(\".\")\n",
        "            if not dot2:\n",
        "                spec = ModuleSpec(\n",
        "                    modname,\n",
        "                    GithubImportLoader(),\n",
        "                    origin=\"https://github.com/\" + \"/\".join([package, module]),\n",
        "                    loader_state=GithubImportState.REPO,\n",
        "                    is_package=True)\n",
        "                spec.submodule_search_locations = []\n",
        "                return spec\n",
        "            path = urljoin(\"https://github.com\",\n",
        "                           join(user, repo, \"raw\", \"master\", module + \".py\"))\n",
        "            return ModuleSpec(\n",
        "                modname,\n",
        "                GithubImportLoader(),\n",
        "                origin=path,\n",
        "                loader_state=GithubImportState.FILE)\n",
        "\n",
        "class GithubImportLoader:\n",
        "    def create_module(self, spec):\n",
        "        return None  # default semantics\n",
        "\n",
        "    def exec_module(self, module):\n",
        "        path = module.__spec__.origin\n",
        "        if module.__spec__.loader_state != GithubImportState.USER:\n",
        "            setattr(sys.modules[module.__package__],\n",
        "                    module.__name__.rpartition(\".\")[-1], module)\n",
        "        if module.__spec__.loader_state == GithubImportState.FILE:\n",
        "            # load the module\n",
        "            code = get(path)\n",
        "            if code.status_code != 200:\n",
        "                print(path, code)\n",
        "                raise ModuleNotFoundError(f\"No module named {module.__name__}\")\n",
        "            code = code.text\n",
        "            exec(code, module.__dict__)\n",
        "\n",
        "import sys\n",
        "\n",
        "FINDER = GithubImportFinder()\n",
        "sys.meta_path.append(FINDER)"
      ]
    }
  ]
}